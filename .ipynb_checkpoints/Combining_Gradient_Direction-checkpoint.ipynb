{
 "cells": [
  {
   "cell_type": "code",
   "execution_count": 1,
   "metadata": {},
   "outputs": [],
   "source": [
    "import numpy as np\n",
    "import numpy.random as npr\n",
    "import matplotlib.pyplot as plt\n",
    "from scipy import signal\n",
    "\n",
    "from ipywidgets import interact, interactive, fixed, interact_manual\n",
    "import ipywidgets as widgets\n"
   ]
  },
  {
   "cell_type": "code",
   "execution_count": 33,
   "metadata": {},
   "outputs": [],
   "source": [
    "class Line():\n",
    "    def __init__(self, A=1,B=1,C=0, w=0.01):\n",
    "        self.A = A\n",
    "        self.B = B\n",
    "        self.C = C\n",
    "        self.w = w\n",
    "        \n",
    "    def dist_to(self, x, y):\n",
    "        return (self.A*x+self.B*y+self.C)/np.linalg.norm((self.A, self.B))  \n",
    "    \n",
    "    def intensity_at(self, x,y):\n",
    "        d = self.dist_to(x,y)\n",
    "        return 1/(1+np.exp(-d/self.w))\n",
    "    \n",
    "    def set_tilt(self, angle):\n",
    "        self.A = np.sin(angle)\n",
    "        self.B = -np.cos(angle)\n",
    "        self.C = 0\n",
    "        return self\n",
    "\n",
    "class Grid():\n",
    "    def __init__(self, s, line):\n",
    "        self.size = s\n",
    "        self.img = np.zeros((s,s))\n",
    "        self.change_line(line)\n",
    "        \n",
    "    def clear(self):\n",
    "        self.img[:,:] = 0.\n",
    "        \n",
    "    def change_line(self, line):\n",
    "        self.clear()\n",
    "        self.line = line\n",
    "        self.draw_line()\n",
    "        self.edgeMap, self.gradMap = self.get_gradient()\n",
    "        self.walk_line()\n",
    "        \n",
    "    def draw_line(self):\n",
    "        for x_id, x in enumerate(np.linspace(0,1, self.size)):\n",
    "            for y_id, y in enumerate(np.linspace(0,1, self.size)):\n",
    "                self.img[y_id,x_id] += self.line.intensity_at(x-0.5,y-0.5)\n",
    "                \n",
    "    def redraw(self):\n",
    "        self.clear()\n",
    "        self.draw_line()\n",
    "        \n",
    "    def get_gradient(self):\n",
    "        kh = np.array([[-1, 0, 1], [-2, 0, 2], [-1, 0, 1]], dtype = np.float)\n",
    "        kv = np.array([[1, 2, 1], [0, 0, 0], [-1, -2, -1]], dtype = np.float)\n",
    "        gx = signal.convolve2d(self.img, kh, mode='same', boundary = 'symm')\n",
    "        gy = signal.convolve2d(self.img, kv, mode='same', boundary = 'symm')\n",
    "\n",
    "        edgeMap = np.sqrt(gx * gx + gy * gy)\n",
    "        edgeMap /= np.amax(edgeMap)\n",
    "        gradMap = np.zeros(self.size*self.size)\n",
    "        tmp = edgeMap.flatten() > 1e-4\n",
    "        gy_select = gy.flatten()[tmp]\n",
    "        gradMap[tmp] = np.arctan2(-gy.flatten()[tmp], gx.flatten()[tmp])\n",
    "        gradMap = gradMap.reshape((self.size,self.size))\n",
    "        return edgeMap, gradMap\n",
    "    \n",
    "    def plot_array(self, array):\n",
    "        plt.figure(figsize=(8,8))\n",
    "        plt.imshow(array,cmap='gray', interpolation='none', vmin=0, vmax=1, aspect='equal', origin='lower')\n",
    "        ax = plt.gca()\n",
    "        ax.set_xticklabels([])\n",
    "        ax.set_yticklabels([])\n",
    "        plt.xlabel('x', fontsize=14, fontweight='bold')\n",
    "        plt.ylabel('y',fontsize=14, fontweight='bold') \n",
    "        plt.plot(self.chain[:,0],self.chain[:,1], 'r-')\n",
    "        \n",
    "    def plot_img(self):\n",
    "        self.plot_array(self.img)  \n",
    "        \n",
    "    def walk_line(self):\n",
    "        seed = self.size//2, self.size//2\n",
    "        deltas = np.array([(1,0),(1,1),(0,1),(-1,1),(-1,0),(-1,-1),(0,-1),(1,-1)])\n",
    "        left = []\n",
    "        right = []\n",
    "        length = self.size//2 - 3\n",
    "        \n",
    "        for i in range(2):\n",
    "            pt = np.array(seed)\n",
    "            for j in range(length):\n",
    "                direction = self.gradMap[pt[1],pt[0]]\n",
    "                grad_id = int(((direction-3*np.pi/8)%(2*np.pi))//(np.pi/4))\n",
    "                grad_id = (grad_id+i*4)\n",
    "                best_id = grad_id\n",
    "                offsets = [7,0,1]\n",
    "                next_pts = [pt+deltas[(offset+grad_id)%8] for offset in offsets]\n",
    "                try:\n",
    "                    e_vals = [self.edgeMap[(p[1],p[0])] for p in next_pts]\n",
    "                except IndexError:\n",
    "                    break\n",
    "                best_id = (grad_id+ offsets[np.argmax(e_vals)])%8\n",
    "                pt = pt + deltas[best_id]\n",
    "                if pt[0] < 0 or pt[1] < 0 or pt[0] == self.size or pt[1] == self.size:\n",
    "                    break\n",
    "                if i == 0: left.append(pt)\n",
    "                if i == 1: right.append(pt)\n",
    "                    \n",
    "        full = left[::-1] + [seed] + right\n",
    "        self.chain = np.array(full)\n",
    "            \n",
    "            \n",
    "        \n",
    "            \n",
    "                   "
   ]
  },
  {
   "cell_type": "code",
   "execution_count": 42,
   "metadata": {
    "scrolled": false
   },
   "outputs": [
    {
     "data": {
      "application/vnd.jupyter.widget-view+json": {
       "model_id": "67c07748fe9343a08c1eb0b1e1826ae4",
       "version_major": 2,
       "version_minor": 0
      },
      "text/plain": [
       "interactive(children=(IntSlider(value=0, description='deg', max=179, step=5), Output()), _dom_classes=('widget…"
      ]
     },
     "metadata": {},
     "output_type": "display_data"
    },
    {
     "data": {
      "text/plain": [
       "<function __main__.f(deg)>"
      ]
     },
     "execution_count": 42,
     "metadata": {},
     "output_type": "execute_result"
    }
   ],
   "source": [
    "%matplotlib inline\n",
    "G = Grid(101, Line(w=0.003))\n",
    "def f(deg):\n",
    "    rad = deg*np.pi/180.\n",
    "    G.change_line(G.line.set_tilt(rad))\n",
    "    G.plot_array(G.edgeMap)\n",
    "    fig = plt.figure()\n",
    "    x = np.arange(G.chain.shape[0])\n",
    "    curv = np.zeros_like(x,dtype=np.float32)\n",
    "    for i in x:\n",
    "        pt = G.chain[i]\n",
    "        curv[i] = G.gradMap[pt[1],pt[0]]\n",
    "    plt.plot(x,curv, 'k.-')\n",
    "    \n",
    "interact(f, deg=widgets.IntSlider(min=0, max=179, step=5, val=0))\n",
    "    \n",
    "\n"
   ]
  },
  {
   "cell_type": "code",
   "execution_count": null,
   "metadata": {},
   "outputs": [],
   "source": []
  },
  {
   "cell_type": "code",
   "execution_count": null,
   "metadata": {},
   "outputs": [],
   "source": []
  }
 ],
 "metadata": {
  "kernelspec": {
   "display_name": "Python 3",
   "language": "python",
   "name": "python3"
  },
  "language_info": {
   "codemirror_mode": {
    "name": "ipython",
    "version": 3
   },
   "file_extension": ".py",
   "mimetype": "text/x-python",
   "name": "python",
   "nbconvert_exporter": "python",
   "pygments_lexer": "ipython3",
   "version": "3.6.8"
  }
 },
 "nbformat": 4,
 "nbformat_minor": 2
}
