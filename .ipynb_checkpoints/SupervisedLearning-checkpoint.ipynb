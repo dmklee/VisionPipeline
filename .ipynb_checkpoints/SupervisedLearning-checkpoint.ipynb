{
 "cells": [
  {
   "cell_type": "code",
   "execution_count": 9,
   "metadata": {},
   "outputs": [],
   "source": [
    "import numpy as np \n",
    "import numpy.random as npr \n",
    "import matplotlib.pyplot as plt\n",
    "\n",
    "from ipywidgets import interact, interactive, fixed, interact_manual\n",
    "import ipywidgets as widgets"
   ]
  },
  {
   "cell_type": "code",
   "execution_count": 77,
   "metadata": {},
   "outputs": [],
   "source": [
    "def read_data():\n",
    "    f = open(\"labeled_corners_thetas.txt\",\"r\")\n",
    "    contents = f.read()\n",
    "\n",
    "    THETAS = []\n",
    "    CORNERS = []\n",
    "    for i, line in enumerate(contents.splitlines()):\n",
    "        data = line.split(\")\")[0]\n",
    "        data = [float(a) for a in data[1:].split(\",\")]\n",
    "        THETAS.append(np.array(data))\n",
    "\n",
    "        offset = 0\n",
    "        kept = \"\"\n",
    "        tuples = []\n",
    "        current = \"\"\n",
    "        for c in reversed(line):\n",
    "            if c == ')': \n",
    "                offset += 1\n",
    "            elif c == '(': \n",
    "                offset -= 1\n",
    "                if len(current) > 0:\n",
    "                    tuples.append(current[::-1])\n",
    "                    current = \"\"\n",
    "            elif offset == 2:\t\n",
    "                current += c\n",
    "            kept += c\n",
    "            if offset == 0:\n",
    "                break\n",
    "        labels = []\n",
    "        for t in tuples[::-1]:\n",
    "            z = t.split(',')\n",
    "            labels.extend(range(int(z[0]),int(z[2])+1))\n",
    "        bit_labels = np.zeros(len(data))\n",
    "        bit_labels[labels] = 1\n",
    "        CORNERS.append(bit_labels)\n",
    "\n",
    "    for i in range(len(THETAS)):\n",
    "        data = THETAS[i]\n",
    "        bit_label = CORNERS[i]\n",
    "        length = data.size\n",
    "        THETAS.append(data[::-1])\n",
    "        CORNERS.append(bit_label[::-1])\n",
    "\n",
    "    return THETAS, CORNERS\n",
    "\n",
    "def visualize_labeling(thetas, bit_labels, show=True):\n",
    "    plt.figure()\n",
    "    x = np.arange(bit_labels.size)\n",
    "    plt.plot(x, thetas, 'k.-')\n",
    "    plt.plot(x[bit_labels==1], thetas[bit_labels==1], 'ro')\n",
    "    if show: plt.show()"
   ]
  },
  {
   "cell_type": "code",
   "execution_count": 78,
   "metadata": {},
   "outputs": [],
   "source": [
    "# error functions\n",
    "def bitwise_error(truth, est):\n",
    "    return np.sum(truth != est)\n",
    "\n",
    "def weighted_error(truth, est, weight_fp, weight_fn):\n",
    "    # weight_fp is the penalty for labeling a non-corner as a corner\n",
    "    # weight_np is the penalty for not identifying a true corner\n",
    "    ret = truth - est\n",
    "    ret[ret == -1] = weight_fp\n",
    "    ret[ret == 1] = weight_fn\n",
    "    return np.sum(ret)\n",
    "\n",
    "def dist_nearest_error(truth, est):\n",
    "    #assumes both are sorted in increasing order\n",
    "    pass"
   ]
  },
  {
   "cell_type": "code",
   "execution_count": 79,
   "metadata": {},
   "outputs": [],
   "source": [
    "def linear_fit(data, threshold,decay):\n",
    "    # fits line of the form Ax+By+C=0\n",
    "    error = 0\n",
    "    sumX = 0\n",
    "    sumY = 0\n",
    "    sumXY = 0\n",
    "    sumX2 = 0\n",
    "    n = 0\n",
    "    for x,y in enumerate(data):\n",
    "        n += 1\n",
    "        sumX += x\n",
    "        sumY += y\n",
    "        sumXY += x*y\n",
    "        sumX2 += x*x\n",
    "        xMean = sumX/n\n",
    "        yMean = sumY/n\n",
    "        denom = sumX2 - sumX*xMean\n",
    "        if abs(denom) < 1e-6:\n",
    "            A = 1\n",
    "            B = 0\n",
    "            C = -xMean\n",
    "        else:\n",
    "            A = - (sumXY - sumX*yMean)/denom\n",
    "            B = 1\n",
    "            C = - (yMean + A*xMean)\n",
    "        error += (A*x+B*y+C)\n",
    "        error *= decay\n",
    "        if error > threshold:\n",
    "            break\n",
    "    return n"
   ]
  },
  {
   "cell_type": "code",
   "execution_count": 229,
   "metadata": {},
   "outputs": [],
   "source": [
    "def process(data):\n",
    "    n = data.size\n",
    "    avg = np.zeros(data.size)\n",
    "    var = np.zeros(data.size)\n",
    "    f_size = 5\n",
    "    frontier = np.zeros(data.size)\n",
    "    avg[0] = data[0]\n",
    "    var[0] = 0.1\n",
    "    for i in range(1,n):\n",
    "        delta = data[i] - avg[i-1]\n",
    "        avg[i] = avg[i-1] + delta/(i+1)\n",
    "        delta_2 = data[i] - avg[i]\n",
    "        var[i] = var[i-1] + delta*delta_2\n",
    "        if i < n-f_size:\n",
    "            frontier[i] = np.mean(data[i:i+f_size])\n",
    "        else:\n",
    "            frontier[i] = avg[i]\n",
    "        \n",
    "    return avg, np.sqrt(var/np.arange(n)), frontier\n",
    "\n",
    "def find_first_corner(data, avg, std, frontier,f_size=5):\n",
    "    i = np.argmax(abs(avg-frontier) > std)\n",
    "    if abs(avg[i]-frontier[i]) > std[i]:\n",
    "        turn = np.sign(frontier[i]-avg[i])\n",
    "        final = i\n",
    "        avg_set = avg[i]\n",
    "        std_set = std[i]\n",
    "        for _ in range(f_size):\n",
    "            if abs(data[i]-avg_set) < std_set:\n",
    "                final = i\n",
    "            i += 1\n",
    "        return i, turn\n",
    "    return avg.size, 0\n",
    "\n",
    "def find_first_corner_end(data, c_id, turn):\n",
    "    l = 3\n",
    "    for i in range(c_id, data.size-l):\n",
    "        mu = np.mean(data[i:(i+l)])\n",
    "        if turn*(data[i-1] - mu) > 0.01:\n",
    "            break\n",
    "    return i\n",
    "    "
   ]
  },
  {
   "cell_type": "code",
   "execution_count": 230,
   "metadata": {},
   "outputs": [
    {
     "data": {
      "application/vnd.jupyter.widget-view+json": {
       "model_id": "26c33036966245039eab97ec91d5831f",
       "version_major": 2,
       "version_minor": 0
      },
      "text/plain": [
       "interactive(children=(IntSlider(value=21, description='data_id', max=175), Output()), _dom_classes=('widget-in…"
      ]
     },
     "metadata": {},
     "output_type": "display_data"
    },
    {
     "data": {
      "text/plain": [
       "<function __main__.g(data_id)>"
      ]
     },
     "execution_count": 230,
     "metadata": {},
     "output_type": "execute_result"
    }
   ],
   "source": [
    "X,Y = read_data()\n",
    "def g(data_id):\n",
    "    data = X[data_id]\n",
    "    label = Y[data_id]\n",
    "    avg, var, frontier = process(data)\n",
    "    c_id, turn = find_first_corner(data, avg, var, frontier)\n",
    "#     e_id = find_first_corner_end(data, c_id, turn)\n",
    "    \n",
    "    plt.figure(figsize=(12,5))\n",
    "    plt.plot(np.arange(data.size),data, 'k.')\n",
    "    plt.plot(np.arange(data.size)[label==1], data[label==1], 'ro')\n",
    "    plt.plot(avg,'g--')\n",
    "    plt.plot(avg+var,'g:')\n",
    "    plt.plot(avg-var,'g:')\n",
    "    plt.plot(frontier,'b.:')\n",
    "    if c_id != data.size:\n",
    "        plt.plot(c_id, data[c_id], 'X', c='orange', markersize=10)\n",
    "#         plt.plot(e_id, data[e_id], 'X', c='green', markersize=10)\n",
    "\n",
    "interact(g, data_id=widgets.IntSlider(min=0, max=len(X)-1, step=1, value=21))"
   ]
  },
  {
   "cell_type": "code",
   "execution_count": 218,
   "metadata": {},
   "outputs": [
    {
     "data": {
      "application/vnd.jupyter.widget-view+json": {
       "model_id": "d5ca503294d741f882adcdfb4a4a9205",
       "version_major": 2,
       "version_minor": 0
      },
      "text/plain": [
       "interactive(children=(FloatSlider(value=0.1, description='threshold', max=0.2, step=0.0001), FloatSlider(value…"
      ]
     },
     "metadata": {},
     "output_type": "display_data"
    },
    {
     "data": {
      "text/plain": [
       "<function __main__.f(threshold, decay)>"
      ]
     },
     "execution_count": 218,
     "metadata": {},
     "output_type": "execute_result"
    },
    {
     "data": {
      "image/png": "[encoded data removed]",
      "text/plain": [
       "<Figure size 1008x432 with 1 Axes>"
      ]
     },
     "metadata": {
      "needs_background": "light"
     },
     "output_type": "display_data"
    }
   ],
   "source": [
    "def f(threshold,decay):\n",
    "    n = linear_fit(data, threshold,decay)\n",
    "    x = np.arange(data.size)\n",
    "#     line = -(A*x + C)/B\n",
    "\n",
    "    plt.figure(figsize=(14,6))\n",
    "    plt.plot(data, 'k.-')\n",
    "    plt.plot(x[label==1],data[label==1], 'r.')\n",
    "    plt.plot(n, data[n], 'bX')\n",
    "\n",
    "interact(f, threshold=widgets.FloatSlider(min=0,max=0.2,step=0.0001,value=0.1),\n",
    "            decay=widgets.FloatSlider(min=0,max=1.0,step=0.0001,value=0.9))"
   ]
  },
  {
   "cell_type": "code",
   "execution_count": null,
   "metadata": {},
   "outputs": [],
   "source": []
  }
 ],
 "metadata": {
  "kernelspec": {
   "display_name": "Python 3",
   "language": "python",
   "name": "python3"
  },
  "language_info": {
   "codemirror_mode": {
    "name": "ipython",
    "version": 3
   },
   "file_extension": ".py",
   "mimetype": "text/x-python",
   "name": "python",
   "nbconvert_exporter": "python",
   "pygments_lexer": "ipython3",
   "version": "3.6.8"
  }
 },
 "nbformat": 4,
 "nbformat_minor": 2
}
